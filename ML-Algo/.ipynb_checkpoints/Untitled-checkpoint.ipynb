{
 "cells": [
  {
   "cell_type": "code",
   "execution_count": 2,
   "id": "8704f4c1-2969-4172-9ad6-d5606292b258",
   "metadata": {},
   "outputs": [],
   "source": [
    "tuple_list = [('a', 1), ('b', 2), ('c', 3), ('d', 4)]"
   ]
  },
  {
   "cell_type": "code",
   "execution_count": 32,
   "id": "28acbf78-af18-434d-b128-bd99f8cbb62a",
   "metadata": {},
   "outputs": [
    {
     "data": {
      "text/plain": [
       "{'a': 1, 'b': 2, 'c': 3, 'd': 4}"
      ]
     },
     "execution_count": 32,
     "metadata": {},
     "output_type": "execute_result"
    }
   ],
   "source": [
    "tuple_list = [('a', 1), ('b', 2), ('c', 3), ('d', 4)]\n",
    "dict1={}\n",
    "x=[j for i in tuple_list for j in i]\n",
    "dict1={}\n",
    "for i in tuple_list:\n",
    "    dict1.update(tuple_list)\n",
    "dict1"
   ]
  },
  {
   "cell_type": "code",
   "execution_count": 23,
   "id": "ef1e6560-9954-4676-b5e9-07dcd8d5ab5c",
   "metadata": {},
   "outputs": [],
   "source": [
    "dict2={'i':1,'j':2}"
   ]
  },
  {
   "cell_type": "code",
   "execution_count": 24,
   "id": "40d0ea3f-883e-4768-9135-a901d3da1484",
   "metadata": {},
   "outputs": [
    {
     "data": {
      "text/plain": [
       "{'i': 1, 'j': 2}"
      ]
     },
     "execution_count": 24,
     "metadata": {},
     "output_type": "execute_result"
    }
   ],
   "source": [
    "dict2"
   ]
  },
  {
   "cell_type": "code",
   "execution_count": 42,
   "id": "e6c71963-bfb0-454a-ab4f-8a1f0773448c",
   "metadata": {},
   "outputs": [
    {
     "data": {
      "text/plain": [
       "'apple'"
      ]
     },
     "execution_count": 42,
     "metadata": {},
     "output_type": "execute_result"
    }
   ],
   "source": [
    "thistuple=(\"apple\",\"cherry\",\"banana\")\n",
    "fruit1,fruit2,fruit3=thistuple\n",
    "fruit1"
   ]
  },
  {
   "cell_type": "code",
   "execution_count": 39,
   "id": "e5ef6878-1f13-4d9b-b8bc-333fe7d16b45",
   "metadata": {},
   "outputs": [
    {
     "name": "stdout",
     "output_type": "stream",
     "text": [
      "apple\n",
      "cherry\n",
      "banana\n"
     ]
    }
   ],
   "source": [
    "for i in thistuple:\n",
    "    print(i)"
   ]
  },
  {
   "cell_type": "code",
   "execution_count": 63,
   "id": "fccd95f1-a297-4685-a446-19e512916883",
   "metadata": {},
   "outputs": [
    {
     "name": "stdout",
     "output_type": "stream",
     "text": [
      "False\n",
      "True\n"
     ]
    }
   ],
   "source": [
    "tup=(\"apple\",\"banana\")\n",
    "for i in tup:\n",
    "    if(i==\"banana\"):\n",
    "        print(True)\n",
    "    else:\n",
    "        print(False)\n",
    "   "
   ]
  },
  {
   "cell_type": "code",
   "execution_count": 66,
   "id": "e820ceeb-bc17-4d81-a543-3194a0ab9540",
   "metadata": {},
   "outputs": [],
   "source": [
    "tup1 = (1, 2, 3) \n",
    "tup2 = (3, 2, 1)"
   ]
  },
  {
   "cell_type": "code",
   "execution_count": 72,
   "id": "9bb3e8c3-d326-4863-a349-39b042f3b8b2",
   "metadata": {},
   "outputs": [
    {
     "data": {
      "text/plain": [
       "True"
      ]
     },
     "execution_count": 72,
     "metadata": {},
     "output_type": "execute_result"
    }
   ],
   "source": [
    "(4,2,3)>(3,2,1)"
   ]
  },
  {
   "cell_type": "code",
   "execution_count": 84,
   "id": "f8716bab-d082-4db1-8776-24ee4a09936b",
   "metadata": {},
   "outputs": [],
   "source": [
    "tup=((\"apple\",\"am\"),(\"cherry\",\"banana\"))"
   ]
  },
  {
   "cell_type": "code",
   "execution_count": 85,
   "id": "3270726e-e389-4cf1-9a01-29be22401de5",
   "metadata": {},
   "outputs": [
    {
     "data": {
      "text/plain": [
       "'banana'"
      ]
     },
     "execution_count": 85,
     "metadata": {},
     "output_type": "execute_result"
    }
   ],
   "source": [
    "tup[1][1]"
   ]
  },
  {
   "cell_type": "code",
   "execution_count": null,
   "id": "42c46226-7196-4503-a60e-88415d3cc3e0",
   "metadata": {},
   "outputs": [],
   "source": [
    "#Create a dictionary where the keys are tuples and the values are integers.\n",
    "#For example, the dictionary could look like this: {(1, 2): 10, (3, 4): 20, (5, 6): 30}.\n",
    "#Add a new key-value pair with key (7, 8) and value 40\n",
    "#{(1, 2): 10, (3, 4): 20, (5, 6): 30}\n",
    "a={(1, 2): 10, (3, 4): 20, (5, 6): 30}\n"
   ]
  }
 ],
 "metadata": {
  "kernelspec": {
   "display_name": "Python 3 (ipykernel)",
   "language": "python",
   "name": "python3"
  },
  "language_info": {
   "codemirror_mode": {
    "name": "ipython",
    "version": 3
   },
   "file_extension": ".py",
   "mimetype": "text/x-python",
   "name": "python",
   "nbconvert_exporter": "python",
   "pygments_lexer": "ipython3",
   "version": "3.12.4"
  }
 },
 "nbformat": 4,
 "nbformat_minor": 5
}
